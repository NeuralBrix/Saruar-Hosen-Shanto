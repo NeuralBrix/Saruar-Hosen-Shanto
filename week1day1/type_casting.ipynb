{
 "cells": [
  {
   "cell_type": "code",
   "execution_count": null,
   "id": "c07a0ff9",
   "metadata": {},
   "outputs": [
    {
     "name": "stdout",
     "output_type": "stream",
     "text": [
      "integer: 10\n",
      "type of x: <class 'int'>\n",
      "string: 10\n",
      "type of x: <class 'str'>\n",
      "float: 10.0\n",
      "type of x: <class 'float'>\n",
      "boolean: False\n",
      "type of x: <class 'bool'>\n"
     ]
    }
   ],
   "source": [
    "x=10\n",
    "print(\"integer:\", x)    \n",
    "print(\"type of x:\", type(x))\n",
    "x = str(x)\n",
    "print(\"string:\", x)\n",
    "print(\"type of x:\", type(x))\n",
    "x=float(x)\n",
    "print(\"float:\", x)\n",
    "print(\"type of x:\", type(x))\n",
    "x = bool(False)\n",
    "print(\"boolean:\", x)\n",
    "print(\"type of x:\", type(x))\n",
    "\n",
    "\n"
   ]
  },
  {
   "cell_type": "code",
   "execution_count": 15,
   "id": "8ebb72d0",
   "metadata": {},
   "outputs": [
    {
     "name": "stdout",
     "output_type": "stream",
     "text": [
      "string: Saruar Hosen\n",
      "type of name: <class 'str'>\n"
     ]
    }
   ],
   "source": [
    "name=\"Saruar Hosen\"\n",
    "print(\"string:\", name)\n",
    "print(\"type of name:\", type(name))\n"
   ]
  }
 ],
 "metadata": {
  "kernelspec": {
   "display_name": "mljob",
   "language": "python",
   "name": "python3"
  },
  "language_info": {
   "codemirror_mode": {
    "name": "ipython",
    "version": 3
   },
   "file_extension": ".py",
   "mimetype": "text/x-python",
   "name": "python",
   "nbconvert_exporter": "python",
   "pygments_lexer": "ipython3",
   "version": "3.10.18"
  }
 },
 "nbformat": 4,
 "nbformat_minor": 5
}
