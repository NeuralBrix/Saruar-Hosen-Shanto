{
 "cells": [
  {
   "cell_type": "code",
   "execution_count": 1,
   "id": "70c0913e",
   "metadata": {},
   "outputs": [
    {
     "name": "stdout",
     "output_type": "stream",
     "text": [
      "hello world\n"
     ]
    }
   ],
   "source": [
    "print(\"hello world\")"
   ]
  },
  {
   "cell_type": "code",
   "execution_count": 2,
   "id": "41c7d7b4",
   "metadata": {},
   "outputs": [
    {
     "name": "stdout",
     "output_type": "stream",
     "text": [
      "This is a simple Python script.\n"
     ]
    }
   ],
   "source": [
    "print(\"This is a simple Python script.\")"
   ]
  },
  {
   "cell_type": "code",
   "execution_count": 2,
   "id": "ce1d0197",
   "metadata": {},
   "outputs": [
    {
     "name": "stdout",
     "output_type": "stream",
     "text": [
      "6\n"
     ]
    }
   ],
   "source": [
    "print(2*3)"
   ]
  },
  {
   "cell_type": "code",
   "execution_count": 2,
   "id": "c6c17d6c",
   "metadata": {},
   "outputs": [
    {
     "name": "stdout",
     "output_type": "stream",
     "text": [
      "integer: 5\n",
      "float: 3.1416\n",
      "string: mehedi hasan\n",
      "character: z\n",
      "boolean: True\n",
      "boolean: False\n"
     ]
    }
   ],
   "source": [
    "# day 2\n",
    "x=5\n",
    "print(\"integer:\", x)\n",
    "\n",
    "y=3.1416\n",
    "print(\"float:\", y)\n",
    "\n",
    "name=\"mehedi hasan\"\n",
    "print(\"string:\", name)\n",
    "\n",
    "char='z'\n",
    "print(\"character:\", char)\n",
    "\n",
    "bool=True\n",
    "print(\"boolean:\", bool)\n",
    "\n",
    "answer=False\n",
    "print(\"boolean:\", answer)\n",
    "\n",
    "\n"
   ]
  }
 ],
 "metadata": {
  "kernelspec": {
   "display_name": "mljob",
   "language": "python",
   "name": "python3"
  },
  "language_info": {
   "codemirror_mode": {
    "name": "ipython",
    "version": 3
   },
   "file_extension": ".py",
   "mimetype": "text/x-python",
   "name": "python",
   "nbconvert_exporter": "python",
   "pygments_lexer": "ipython3",
   "version": "3.10.18"
  }
 },
 "nbformat": 4,
 "nbformat_minor": 5
}
