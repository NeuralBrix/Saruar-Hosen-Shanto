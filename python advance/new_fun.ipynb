{
 "cells": [
  {
   "cell_type": "code",
   "execution_count": 1,
   "id": "9421431a",
   "metadata": {},
   "outputs": [
    {
     "name": "stdout",
     "output_type": "stream",
     "text": [
      "3\n"
     ]
    }
   ],
   "source": [
    "x=3\n",
    "print(x)"
   ]
  },
  {
   "cell_type": "code",
   "execution_count": null,
   "id": "53004a99",
   "metadata": {},
   "outputs": [
    {
     "name": "stdout",
     "output_type": "stream",
     "text": [
      "Global X\n"
     ]
    }
   ],
   "source": [
    "x=\"Global X\"\n",
    "def outer():\n",
    "    x=\"Enclosing x\"\n",
    "    def inner():\n",
    "        x=\"Local x\"\n",
    "        print(x)\n",
    "    inner()   \n",
    "    print(x) \n"
   ]
  },
  {
   "cell_type": "code",
   "execution_count": 10,
   "id": "a245f6f2",
   "metadata": {},
   "outputs": [
    {
     "name": "stdout",
     "output_type": "stream",
     "text": [
      "Local x\n",
      "Enclosing x\n"
     ]
    }
   ],
   "source": [
    "outer()"
   ]
  },
  {
   "cell_type": "code",
   "execution_count": 7,
   "id": "17d27995",
   "metadata": {},
   "outputs": [
    {
     "name": "stdout",
     "output_type": "stream",
     "text": [
      "Global X\n"
     ]
    }
   ],
   "source": [
    "print(x)"
   ]
  },
  {
   "cell_type": "code",
   "execution_count": 14,
   "id": "cd3a0035",
   "metadata": {},
   "outputs": [
    {
     "name": "stdout",
     "output_type": "stream",
     "text": [
      "5\n",
      "10\n",
      "0\n"
     ]
    }
   ],
   "source": [
    "x=0\n",
    "def outer():\n",
    "    x=5\n",
    "    print(x)\n",
    "    def inner():\n",
    "        x=10\n",
    "        print(x)\n",
    "    inner() \n",
    "outer()  \n",
    "print(x) \n"
   ]
  },
  {
   "cell_type": "code",
   "execution_count": 22,
   "id": "be7c13f0",
   "metadata": {},
   "outputs": [
    {
     "name": "stdout",
     "output_type": "stream",
     "text": [
      "10\n",
      "look at this: 5\n"
     ]
    }
   ],
   "source": [
    "#Gobal keyword\n",
    "x=0\n",
    "def outer():\n",
    "    global x\n",
    "    x=5\n",
    "    def inner():\n",
    "        x=10\n",
    "        print(x)\n",
    "    inner() \n",
    "outer()  \n",
    "print(\"look at this:\",x)\n"
   ]
  },
  {
   "cell_type": "code",
   "execution_count": 25,
   "id": "87dafe83",
   "metadata": {},
   "outputs": [
    {
     "name": "stdout",
     "output_type": "stream",
     "text": [
      "5\n"
     ]
    }
   ],
   "source": [
    "print(x)"
   ]
  },
  {
   "cell_type": "code",
   "execution_count": 29,
   "id": "07a7b56d",
   "metadata": {},
   "outputs": [
    {
     "name": "stdout",
     "output_type": "stream",
     "text": [
      "8\n",
      "0\n"
     ]
    }
   ],
   "source": [
    "#non local key word\n",
    "\n",
    "x=0\n",
    "def outer():\n",
    "    x=5  #Enclosing scope\n",
    "    def inner():\n",
    "        nonlocal x\n",
    "        x +=3\n",
    "        print(x)\n",
    "    inner()\n",
    "outer() \n",
    "print(x)"
   ]
  },
  {
   "cell_type": "code",
   "execution_count": 42,
   "id": "cf44835c",
   "metadata": {},
   "outputs": [],
   "source": [
    "#function return\n",
    "def add (a,b,/):\n",
    "    x= a+b\n",
    "    return x,a,b"
   ]
  },
  {
   "cell_type": "code",
   "execution_count": 34,
   "id": "590e49ab",
   "metadata": {},
   "outputs": [
    {
     "data": {
      "text/plain": [
       "9"
      ]
     },
     "execution_count": 34,
     "metadata": {},
     "output_type": "execute_result"
    }
   ],
   "source": [
    "add(4,5)"
   ]
  },
  {
   "cell_type": "code",
   "execution_count": 35,
   "id": "01d8e2a6",
   "metadata": {},
   "outputs": [
    {
     "data": {
      "text/plain": [
       "47"
      ]
     },
     "execution_count": 35,
     "metadata": {},
     "output_type": "execute_result"
    }
   ],
   "source": [
    "add(43,4)"
   ]
  },
  {
   "cell_type": "code",
   "execution_count": 36,
   "id": "625bc33c",
   "metadata": {},
   "outputs": [],
   "source": [
    "#function return\n",
    "def add (a,b,/):\n",
    "    print(a+b)"
   ]
  },
  {
   "cell_type": "code",
   "execution_count": 43,
   "id": "593a63d9",
   "metadata": {},
   "outputs": [],
   "source": [
    "result=add(4,3)"
   ]
  },
  {
   "cell_type": "code",
   "execution_count": 48,
   "id": "5a30c7c0",
   "metadata": {},
   "outputs": [
    {
     "data": {
      "text/plain": [
       "(7, 4, 3)"
      ]
     },
     "execution_count": 48,
     "metadata": {},
     "output_type": "execute_result"
    }
   ],
   "source": [
    "result"
   ]
  },
  {
   "cell_type": "code",
   "execution_count": 54,
   "id": "63e2a93e",
   "metadata": {},
   "outputs": [],
   "source": [
    "q,w,e=result"
   ]
  },
  {
   "cell_type": "code",
   "execution_count": null,
   "id": "6235fd63",
   "metadata": {},
   "outputs": [],
   "source": []
  },
  {
   "cell_type": "code",
   "execution_count": 50,
   "id": "e3857a14",
   "metadata": {},
   "outputs": [
    {
     "data": {
      "text/plain": [
       "(49, 44, 5)"
      ]
     },
     "execution_count": 50,
     "metadata": {},
     "output_type": "execute_result"
    }
   ],
   "source": [
    "add(44,5)"
   ]
  },
  {
   "cell_type": "code",
   "execution_count": 51,
   "id": "fed3ee98",
   "metadata": {},
   "outputs": [],
   "source": [
    "q,w,e=result"
   ]
  },
  {
   "cell_type": "code",
   "execution_count": null,
   "id": "a35daaa0",
   "metadata": {},
   "outputs": [
    {
     "data": {
      "text/plain": [
       "7"
      ]
     },
     "execution_count": 55,
     "metadata": {},
     "output_type": "execute_result"
    }
   ],
   "source": []
  },
  {
   "cell_type": "code",
   "execution_count": null,
   "id": "0501fb48",
   "metadata": {},
   "outputs": [],
   "source": []
  },
  {
   "cell_type": "code",
   "execution_count": null,
   "id": "60ff7589",
   "metadata": {},
   "outputs": [],
   "source": []
  },
  {
   "cell_type": "code",
   "execution_count": null,
   "id": "dae82c7e",
   "metadata": {},
   "outputs": [],
   "source": []
  },
  {
   "cell_type": "code",
   "execution_count": null,
   "id": "29d4ced8",
   "metadata": {},
   "outputs": [],
   "source": []
  },
  {
   "cell_type": "code",
   "execution_count": null,
   "id": "e9e9ad6d",
   "metadata": {},
   "outputs": [],
   "source": []
  },
  {
   "cell_type": "code",
   "execution_count": null,
   "id": "7f414b90",
   "metadata": {},
   "outputs": [],
   "source": []
  },
  {
   "cell_type": "code",
   "execution_count": null,
   "id": "fe4da59d",
   "metadata": {},
   "outputs": [],
   "source": []
  }
 ],
 "metadata": {
  "kernelspec": {
   "display_name": "mljob",
   "language": "python",
   "name": "python3"
  },
  "language_info": {
   "codemirror_mode": {
    "name": "ipython",
    "version": 3
   },
   "file_extension": ".py",
   "mimetype": "text/x-python",
   "name": "python",
   "nbconvert_exporter": "python",
   "pygments_lexer": "ipython3",
   "version": "3.10.18"
  }
 },
 "nbformat": 4,
 "nbformat_minor": 5
}
