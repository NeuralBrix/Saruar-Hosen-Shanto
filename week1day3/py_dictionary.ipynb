{
 "cells": [
  {
   "cell_type": "code",
   "execution_count": null,
   "id": "974e3830",
   "metadata": {},
   "outputs": [
    {
     "ename": "SyntaxError",
     "evalue": "invalid non-printable character U+00A0 (216950091.py, line 2)",
     "output_type": "error",
     "traceback": [
      "\u001b[1;36m  Cell \u001b[1;32mIn[1], line 2\u001b[1;36m\u001b[0m\n\u001b[1;33m    marks_list = [85, 72, 80, 90, 76, 88, 69]\u001b[0m\n\u001b[1;37m                             ^\u001b[0m\n\u001b[1;31mSyntaxError\u001b[0m\u001b[1;31m:\u001b[0m invalid non-printable character U+00A0\n"
     ]
    }
   ],
   "source": [
    "names = [\"Rahim\", \"Karim\", \"Sabina\", \"Ayesha\", \"Hasan\", \"Monir\", \"Shirin\"]\n",
    "marks_list = [85, 72,80, 90, 76, 88, 69]"
   ]
  },
  {
   "cell_type": "code",
   "execution_count": 2,
   "metadata": {},
   "outputs": [
    {
     "name": "stdout",
     "output_type": "stream",
     "text": [
      "Hello world\n"
     ]
    }
   ],
   "source": [
    "print(\"Hello world\")"
   ]
  },
  {
   "cell_type": "markdown",
   "id": "6ff79505",
   "metadata": {},
   "source": []
  },
  {
   "cell_type": "code",
   "execution_count": null,
   "id": "4ca08d9c",
   "metadata": {},
   "outputs": [
    {
     "name": "stdout",
     "output_type": "stream",
     "text": [
      "{'Rahim': 85, 'Karim': 72, 'Sabina': 80, 'Ayesha': 90, 'Hasan': 76, 'Monir': 88, 'Shirin': 69}\n",
      "Average mark: 80.0\n"
     ]
    }
   ],
   "source": [
    "#assignment type 1 (by AI)\n",
    "names = [\"Rahim\", \"Karim\", \"Sabina\", \"Ayesha\", \"Hasan\", \"Monir\", \"Shirin\"]\n",
    "marks_list = [85, 72,80, 90, 76, 88, 69]\n",
    "# Creating a dictionary from two lists\n",
    "student_marks = dict(zip(names, marks_list))\n",
    "\n",
    "print(student_marks)\n",
    "average_mark = sum(student_marks.values()) / len(student_marks)\n",
    "\n",
    "print(\"Average mark:\", average_mark)\n",
    "\n",
    "\n"
   ]
  },
  {
   "cell_type": "code",
   "execution_count": null,
   "id": "bc0549c7",
   "metadata": {},
   "outputs": [
    {
     "name": "stdout",
     "output_type": "stream",
     "text": [
      "{'Rahim': 85, 'Karim': 72, 'Sabina': 80, 'Ayesha': 90, 'Hasan': 76, 'Monir': 88, 'Shirin': 69}\n",
      "average_mark: 80.0\n"
     ]
    }
   ],
   "source": [
    "#type 2 (by me)\n",
    "names = [\"Rahim\", \"Karim\", \"Sabina\", \"Ayesha\", \"Hasan\", \"Monir\", \"Shirin\"]\n",
    "marks_list = [85, 72,80, 90, 76, 88, 69]\n",
    "\n",
    "my_dict = dict(zip(names, marks_list))\n",
    "print(my_dict)\n",
    "a=my_dict .pop(\"Rahim\")\n",
    "b=my_dict .pop(\"Karim\")\n",
    "c=my_dict .pop(\"Sabina\")\n",
    "d=my_dict .pop(\"Ayesha\")\n",
    "e=my_dict .pop(\"Hasan\")\n",
    "f=my_dict .pop(\"Monir\")\n",
    "g=my_dict .pop(\"Shirin\")\n",
    "print(\"average_mark:\", (a+b+c+d+e+f+g)/7)\n"
   ]
  },
  {
   "cell_type": "code",
   "execution_count": 13,
   "id": "e025e386",
   "metadata": {},
   "outputs": [
    {
     "name": "stdout",
     "output_type": "stream",
     "text": [
      "{'Rahim': 85, 'Karim': 72, 'Sabina': 80, 'Ayesha': 90, 'Hasan': 76, 'Monir': 88, 'Shirin': 69}\n",
      "Average Marks :  80.0\n"
     ]
    }
   ],
   "source": [
    "names = [\"Rahim\", \"Karim\", \"Sabina\", \"Ayesha\", \"Hasan\", \"Monir\", \"Shirin\"]\n",
    "marks_list = [85, 72,80, 90, 76, 88, 69]\n",
    "my_dict={}\n",
    "for i in range(len(names)):\n",
    "    my_dict[names[i]] = marks_list[i]\n",
    "print(my_dict)\n",
    "average = sum(marks_list) / len(marks_list)\n",
    "print(\"Average Marks : \",average)"
   ]
  },
  {
   "cell_type": "code",
   "execution_count": 14,
   "id": "c117611a",
   "metadata": {},
   "outputs": [
    {
     "name": "stdout",
     "output_type": "stream",
     "text": [
      "{'Rahim': 85, 'Karim': 72, 'Sabina': 80, 'Ayesha': 90, 'Hasan': 76, 'Monir': 88, 'Shirin': 69}\n",
      "Average Marks :  80.0\n"
     ]
    }
   ],
   "source": [
    "my_dict={}\n",
    "# len(names) counts how many items are in the list\n",
    "for i in range(len(names)):      #This is a loop that will run once for each index.\n",
    "    my_dict[names[i]] = marks_list[i]\n",
    "print(my_dict)\n",
    "average = sum(marks_list) / len(marks_list)\n",
    "print(\"Average Marks : \",average)"
   ]
  },
  {
   "cell_type": "code",
   "execution_count": 22,
   "id": "72633566",
   "metadata": {},
   "outputs": [
    {
     "name": "stdout",
     "output_type": "stream",
     "text": [
      "<class 'dict'>\n"
     ]
    }
   ],
   "source": [
    "#new section\n",
    "first_dictionary ={}\n",
    "print(type(first_dictionary))  # Output: <class 'dict'>"
   ]
  },
  {
   "cell_type": "code",
   "execution_count": 24,
   "id": "eeef4fd7",
   "metadata": {},
   "outputs": [
    {
     "data": {
      "text/plain": [
       "-7946450280305097216"
      ]
     },
     "execution_count": 24,
     "metadata": {},
     "output_type": "execute_result"
    }
   ],
   "source": [
    "hash (\"accuracy\")"
   ]
  },
  {
   "cell_type": "code",
   "execution_count": 29,
   "id": "d1e15c74",
   "metadata": {},
   "outputs": [
    {
     "data": {
      "text/plain": [
       "4"
      ]
     },
     "execution_count": 29,
     "metadata": {},
     "output_type": "execute_result"
    }
   ],
   "source": [
    "hash(\"accuracy\") % 6"
   ]
  },
  {
   "cell_type": "code",
   "execution_count": 27,
   "id": "1e35bb3c",
   "metadata": {},
   "outputs": [
    {
     "name": "stdout",
     "output_type": "stream",
     "text": [
      "{'learning_rate': 0.01, 'batch_size': 32, 'Num_epochs': 10}\n"
     ]
    }
   ],
   "source": [
    "params={\"learning_rate\":0.01,\"batch_size\":32,\"Num_epochs\":10}\n",
    "print(params)"
   ]
  },
  {
   "cell_type": "code",
   "execution_count": 33,
   "id": "fb3682d8",
   "metadata": {},
   "outputs": [
    {
     "data": {
      "text/plain": [
       "32"
      ]
     },
     "execution_count": 33,
     "metadata": {},
     "output_type": "execute_result"
    }
   ],
   "source": [
    "params[\"batch_size\"]"
   ]
  },
  {
   "cell_type": "code",
   "execution_count": 34,
   "id": "66ac52ce",
   "metadata": {},
   "outputs": [],
   "source": [
    "del params[\"batch_size\"]"
   ]
  },
  {
   "cell_type": "code",
   "execution_count": 36,
   "id": "e7de200f",
   "metadata": {},
   "outputs": [
    {
     "data": {
      "text/plain": [
       "{'learning_rate': 0.01, 'Num_epochs': 10}"
      ]
     },
     "execution_count": 36,
     "metadata": {},
     "output_type": "execute_result"
    }
   ],
   "source": [
    "params"
   ]
  },
  {
   "cell_type": "code",
   "execution_count": 38,
   "id": "c42ad635",
   "metadata": {},
   "outputs": [],
   "source": [
    "params .pop(\"learning_rate\", None)"
   ]
  },
  {
   "cell_type": "code",
   "execution_count": 39,
   "id": "fdcee996",
   "metadata": {},
   "outputs": [
    {
     "data": {
      "text/plain": [
       "{'Num_epochs': 10}"
      ]
     },
     "execution_count": 39,
     "metadata": {},
     "output_type": "execute_result"
    }
   ],
   "source": [
    "params"
   ]
  },
  {
   "cell_type": "code",
   "execution_count": 40,
   "id": "29465ca7",
   "metadata": {},
   "outputs": [
    {
     "name": "stdout",
     "output_type": "stream",
     "text": [
      "{'Num_epochs': 10, 'optimizer': 'adam'}\n"
     ]
    }
   ],
   "source": [
    "params[\"optimizer\"] = \"adam\"\n",
    "print(params)"
   ]
  },
  {
   "cell_type": "code",
   "execution_count": 9,
   "id": "025ad222",
   "metadata": {},
   "outputs": [],
   "source": [
    "my_list = list()\n",
    "my_dict = dict()\n"
   ]
  },
  {
   "cell_type": "code",
   "execution_count": 10,
   "id": "6fb64e79",
   "metadata": {},
   "outputs": [],
   "source": [
    "for i in range(100):\n",
    "    my_list.append(i)\n",
    "    my_dict[i] = i "
   ]
  },
  {
   "cell_type": "code",
   "execution_count": 11,
   "id": "9ff3ccad",
   "metadata": {},
   "outputs": [
    {
     "data": {
      "text/plain": [
       "100"
      ]
     },
     "execution_count": 11,
     "metadata": {},
     "output_type": "execute_result"
    }
   ],
   "source": [
    "len(my_list)  # Output: 1000"
   ]
  },
  {
   "cell_type": "code",
   "execution_count": 12,
   "id": "ac3006ab",
   "metadata": {},
   "outputs": [],
   "source": [
    "import time"
   ]
  },
  {
   "cell_type": "code",
   "execution_count": 14,
   "id": "0a77c9c0",
   "metadata": {},
   "outputs": [
    {
     "name": "stdout",
     "output_type": "stream",
     "text": [
      "True\n",
      "List access time: 0.0\n"
     ]
    }
   ],
   "source": [
    "start_time = time.time()\n",
    "print( 99 in my_list)\n",
    "end_time = time.time()\n",
    "print(\"List access time:\", end_time - start_time)"
   ]
  },
  {
   "cell_type": "code",
   "execution_count": 18,
   "id": "ee9aaa8a",
   "metadata": {},
   "outputs": [
    {
     "name": "stdout",
     "output_type": "stream",
     "text": [
      "True\n",
      "List access time: 0.0\n"
     ]
    }
   ],
   "source": [
    "start_time = time.time()\n",
    "print(99 in my_dict)\n",
    "end_time = time.time()\n",
    "print(\"List access time:\", end_time - start_time)"
   ]
  },
  {
   "cell_type": "code",
   "execution_count": null,
   "id": "afcd398a",
   "metadata": {},
   "outputs": [],
   "source": [
    "#we can see the difference in time taken to access an element in a list vs a dictionary\n",
    "# cause in list it takes O(n) time to find an element\n",
    "# but in dictionary it takes O(1) time to find an element\n",
    "#but in dictionary it takes O(1) time to find an element\n",
    "#so keep in mind that dictionary is much faster than list when it comes to accessing elements"
   ]
  },
  {
   "cell_type": "code",
   "execution_count": 28,
   "id": "b0c2913f",
   "metadata": {},
   "outputs": [
    {
     "data": {
      "text/plain": [
       "{'learning_rate': 0.01, 'batch_size': 32, 'Num_epochs': 10}"
      ]
     },
     "execution_count": 28,
     "metadata": {},
     "output_type": "execute_result"
    }
   ],
   "source": [
    "params"
   ]
  },
  {
   "cell_type": "code",
   "execution_count": 31,
   "id": "be918c3f",
   "metadata": {},
   "outputs": [
    {
     "data": {
      "text/plain": [
       "dict_values([0.01, 32, 10])"
      ]
     },
     "execution_count": 31,
     "metadata": {},
     "output_type": "execute_result"
    }
   ],
   "source": [
    "params .values()\n"
   ]
  },
  {
   "cell_type": "code",
   "execution_count": 32,
   "id": "46927071",
   "metadata": {},
   "outputs": [
    {
     "data": {
      "text/plain": [
       "dict_keys(['learning_rate', 'batch_size', 'Num_epochs'])"
      ]
     },
     "execution_count": 32,
     "metadata": {},
     "output_type": "execute_result"
    }
   ],
   "source": [
    "params .keys()"
   ]
  },
  {
   "cell_type": "code",
   "execution_count": 35,
   "id": "5dc74ead",
   "metadata": {},
   "outputs": [
    {
     "data": {
      "text/plain": [
       "False"
      ]
     },
     "execution_count": 35,
     "metadata": {},
     "output_type": "execute_result"
    }
   ],
   "source": [
    "\"num_epochs\" in params"
   ]
  },
  {
   "cell_type": "code",
   "execution_count": 36,
   "id": "64f7d499",
   "metadata": {},
   "outputs": [
    {
     "data": {
      "text/plain": [
       "True"
      ]
     },
     "execution_count": 36,
     "metadata": {},
     "output_type": "execute_result"
    }
   ],
   "source": [
    "\"batch_size\" in params "
   ]
  },
  {
   "cell_type": "code",
   "execution_count": 37,
   "id": "7ee09528",
   "metadata": {},
   "outputs": [
    {
     "name": "stdout",
     "output_type": "stream",
     "text": [
      "{}\n"
     ]
    }
   ],
   "source": [
    "params .clear()\n",
    "print(params)  # Output: {}"
   ]
  },
  {
   "cell_type": "code",
   "execution_count": 38,
   "id": "03352bed",
   "metadata": {},
   "outputs": [
    {
     "name": "stdout",
     "output_type": "stream",
     "text": [
      "{}\n"
     ]
    }
   ],
   "source": [
    "my_dict .clear()\n",
    "print(my_dict)  # Output: {}"
   ]
  },
  {
   "cell_type": "code",
   "execution_count": 64,
   "id": "3ab6a1f5",
   "metadata": {},
   "outputs": [],
   "source": [
    "params = {\"Accuracy\":99, \"epochs\": 12, \"optimizer\": \"adam\"}"
   ]
  },
  {
   "cell_type": "code",
   "execution_count": 65,
   "id": "bf8adef9",
   "metadata": {},
   "outputs": [
    {
     "data": {
      "text/plain": [
       "{'Accuracy': 99, 'epochs': 12, 'optimizer': 'adam'}"
      ]
     },
     "execution_count": 65,
     "metadata": {},
     "output_type": "execute_result"
    }
   ],
   "source": [
    "params"
   ]
  },
  {
   "cell_type": "code",
   "execution_count": 45,
   "id": "2080d251",
   "metadata": {},
   "outputs": [
    {
     "data": {
      "text/plain": [
       "'adam'"
      ]
     },
     "execution_count": 45,
     "metadata": {},
     "output_type": "execute_result"
    }
   ],
   "source": [
    "params .get(\"optimizer\", \"Not found\")  # Output: \"Not found\""
   ]
  },
  {
   "cell_type": "code",
   "execution_count": null,
   "id": "e73cf105",
   "metadata": {},
   "outputs": [
    {
     "data": {
      "text/plain": [
       "'adam'"
      ]
     },
     "execution_count": 47,
     "metadata": {},
     "output_type": "execute_result"
    }
   ],
   "source": [
    "params.get(\"optimizer\", \"Not Found\")\n"
   ]
  },
  {
   "cell_type": "code",
   "execution_count": 50,
   "id": "05836111",
   "metadata": {},
   "outputs": [
    {
     "data": {
      "text/plain": [
       "'Not Found'"
      ]
     },
     "execution_count": 50,
     "metadata": {},
     "output_type": "execute_result"
    }
   ],
   "source": [
    "params.get(\"apple\", \"Not Found\") # Output: \"Not Found\" as \"apple\" is not a key in the dictionary\n"
   ]
  },
  {
   "cell_type": "code",
   "execution_count": 53,
   "id": "9bf1faae",
   "metadata": {},
   "outputs": [
    {
     "data": {
      "text/plain": [
       "{'Accuracy': 99, 'epochs': 12, 'optimizer': 'adam'}"
      ]
     },
     "execution_count": 53,
     "metadata": {},
     "output_type": "execute_result"
    }
   ],
   "source": [
    "params"
   ]
  },
  {
   "cell_type": "code",
   "execution_count": 54,
   "id": "dc8afb08",
   "metadata": {},
   "outputs": [
    {
     "data": {
      "text/plain": [
       "'adam'"
      ]
     },
     "execution_count": 54,
     "metadata": {},
     "output_type": "execute_result"
    }
   ],
   "source": [
    "params .pop(\"optimizer\")"
   ]
  },
  {
   "cell_type": "code",
   "execution_count": 66,
   "id": "2d25ff01",
   "metadata": {},
   "outputs": [
    {
     "name": "stdout",
     "output_type": "stream",
     "text": [
      "{'Accuracy': 99, 'epochs': 12, 'optimizer': 'adam'}\n"
     ]
    }
   ],
   "source": [
    "print(params)"
   ]
  },
  {
   "cell_type": "code",
   "execution_count": 68,
   "id": "1db685a8",
   "metadata": {},
   "outputs": [
    {
     "data": {
      "text/plain": [
       "('epochs', 12)"
      ]
     },
     "execution_count": 68,
     "metadata": {},
     "output_type": "execute_result"
    }
   ],
   "source": [
    "params .popitem()"
   ]
  },
  {
   "cell_type": "code",
   "execution_count": 69,
   "id": "8659dead",
   "metadata": {},
   "outputs": [
    {
     "data": {
      "text/plain": [
       "{'Accuracy': 99}"
      ]
     },
     "execution_count": 69,
     "metadata": {},
     "output_type": "execute_result"
    }
   ],
   "source": [
    "params"
   ]
  },
  {
   "cell_type": "code",
   "execution_count": 73,
   "id": "2f48b336",
   "metadata": {},
   "outputs": [
    {
     "data": {
      "text/plain": [
       "{(1, 2, 3): 'This is tuple'}"
      ]
     },
     "execution_count": 73,
     "metadata": {},
     "output_type": "execute_result"
    }
   ],
   "source": [
    "{(1,2,3):\"This is tuple\"}\n"
   ]
  },
  {
   "cell_type": "code",
   "execution_count": 74,
   "id": "8c0ee70a",
   "metadata": {},
   "outputs": [],
   "source": [
    "result = {\n",
    "    \"model_1\": {\"accuracy\":99, \"loss\":0.20},\n",
    "    \"model_2\": {\"accuracy\":95, \"loss\":0.50}\n",
    "}"
   ]
  },
  {
   "cell_type": "code",
   "execution_count": 79,
   "id": "9c601f3f",
   "metadata": {},
   "outputs": [
    {
     "data": {
      "text/plain": [
       "0.5"
      ]
     },
     "execution_count": 79,
     "metadata": {},
     "output_type": "execute_result"
    }
   ],
   "source": [
    "result[\"model_2\"]['loss']"
   ]
  },
  {
   "cell_type": "code",
   "execution_count": 3,
   "id": "a4010329",
   "metadata": {},
   "outputs": [
    {
     "data": {
      "text/plain": [
       "{'Accuracy': 99, 'epochs': 12, 'optimizer': 'adam'}"
      ]
     },
     "execution_count": 3,
     "metadata": {},
     "output_type": "execute_result"
    }
   ],
   "source": [
    "params = {\"Accuracy\":99, \"epochs\": 12, \"optimizer\": \"adam\"}\n",
    "params\n"
   ]
  },
  {
   "cell_type": "code",
   "execution_count": 4,
   "id": "ba4c9721",
   "metadata": {},
   "outputs": [
    {
     "name": "stdout",
     "output_type": "stream",
     "text": [
      "Removed: optimizer -> adam\n",
      "{'Accuracy': 99, 'epochs': 12}\n",
      "Removed: epochs -> 12\n",
      "{'Accuracy': 99}\n",
      "Removed: Accuracy -> 99\n",
      "{}\n"
     ]
    }
   ],
   "source": [
    "import time\n",
    "while params:\n",
    "    time.sleep(2)\n",
    "    key,value = params.popitem()\n",
    "    print(f\"Removed: {key} -> {value}\")\n",
    "    print(params) "
   ]
  },
  {
   "cell_type": "code",
   "execution_count": null,
   "id": "100108d5",
   "metadata": {},
   "outputs": [],
   "source": []
  }
 ],
 "metadata": {
  "kernelspec": {
   "display_name": "mljob",
   "language": "python",
   "name": "python3"
  },
  "language_info": {
   "codemirror_mode": {
    "name": "ipython",
    "version": 3
   },
   "file_extension": ".py",
   "mimetype": "text/x-python",
   "name": "python",
   "nbconvert_exporter": "python",
   "pygments_lexer": "ipython3",
   "version": "3.10.18"
  }
 },
 "nbformat": 4,
 "nbformat_minor": 5
}
