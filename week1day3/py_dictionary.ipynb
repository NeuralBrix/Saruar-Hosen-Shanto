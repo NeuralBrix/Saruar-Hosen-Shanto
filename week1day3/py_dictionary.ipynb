{
 "cells": [
  {
   "cell_type": "code",
   "execution_count": null,
   "id": "974e3830",
   "metadata": {},
   "outputs": [
    {
     "ename": "SyntaxError",
     "evalue": "invalid non-printable character U+00A0 (216950091.py, line 2)",
     "output_type": "error",
     "traceback": [
      "\u001b[1;36m  Cell \u001b[1;32mIn[1], line 2\u001b[1;36m\u001b[0m\n\u001b[1;33m    marks_list = [85, 72, 80, 90, 76, 88, 69]\u001b[0m\n\u001b[1;37m                             ^\u001b[0m\n\u001b[1;31mSyntaxError\u001b[0m\u001b[1;31m:\u001b[0m invalid non-printable character U+00A0\n"
     ]
    }
   ],
   "source": [
    "names = [\"Rahim\", \"Karim\", \"Sabina\", \"Ayesha\", \"Hasan\", \"Monir\", \"Shirin\"]\n",
    "marks_list = [85, 72,80, 90, 76, 88, 69]"
   ]
  },
  {
   "cell_type": "code",
   "execution_count": 2,
   "metadata": {},
   "outputs": [
    {
     "name": "stdout",
     "output_type": "stream",
     "text": [
      "Hello world\n"
     ]
    }
   ],
   "source": [
    "print(\"Hello world\")"
   ]
  },
  {
   "cell_type": "code",
   "execution_count": null,
   "id": "4ca08d9c",
   "metadata": {},
   "outputs": [
    {
     "name": "stdout",
     "output_type": "stream",
     "text": [
      "{'Rahim': 85, 'Karim': 72, 'Sabina': 80, 'Ayesha': 90, 'Hasan': 76, 'Monir': 88, 'Shirin': 69}\n",
      "Average mark: 80.0\n"
     ]
    }
   ],
   "source": [
    "#assignment type 1 (by AI)\n",
    "names = [\"Rahim\", \"Karim\", \"Sabina\", \"Ayesha\", \"Hasan\", \"Monir\", \"Shirin\"]\n",
    "marks_list = [85, 72,80, 90, 76, 88, 69]\n",
    "# Creating a dictionary from two lists\n",
    "student_marks = dict(zip(names, marks_list))\n",
    "\n",
    "print(student_marks)\n",
    "average_mark = sum(student_marks.values()) / len(student_marks)\n",
    "\n",
    "print(\"Average mark:\", average_mark)\n",
    "\n",
    "\n"
   ]
  },
  {
   "cell_type": "code",
   "execution_count": null,
   "id": "bc0549c7",
   "metadata": {},
   "outputs": [
    {
     "name": "stdout",
     "output_type": "stream",
     "text": [
      "{'Rahim': 85, 'Karim': 72, 'Sabina': 80, 'Ayesha': 90, 'Hasan': 76, 'Monir': 88, 'Shirin': 69}\n",
      "average_mark: 80.0\n"
     ]
    }
   ],
   "source": [
    "#type 2 (by me)\n",
    "names = [\"Rahim\", \"Karim\", \"Sabina\", \"Ayesha\", \"Hasan\", \"Monir\", \"Shirin\"]\n",
    "marks_list = [85, 72,80, 90, 76, 88, 69]\n",
    "\n",
    "my_dict = dict(zip(names, marks_list))\n",
    "print(my_dict)\n",
    "a=my_dict .pop(\"Rahim\")\n",
    "b=my_dict .pop(\"Karim\")\n",
    "c=my_dict .pop(\"Sabina\")\n",
    "d=my_dict .pop(\"Ayesha\")\n",
    "e=my_dict .pop(\"Hasan\")\n",
    "f=my_dict .pop(\"Monir\")\n",
    "g=my_dict .pop(\"Shirin\")\n",
    "print(\"average_mark:\", (a+b+c+d+e+f+g)/7)\n"
   ]
  }
 ],
 "metadata": {
  "kernelspec": {
   "display_name": "mljob",
   "language": "python",
   "name": "python3"
  },
  "language_info": {
   "codemirror_mode": {
    "name": "ipython",
    "version": 3
   },
   "file_extension": ".py",
   "mimetype": "text/x-python",
   "name": "python",
   "nbconvert_exporter": "python",
   "pygments_lexer": "ipython3",
   "version": "3.10.18"
  }
 },
 "nbformat": 4,
 "nbformat_minor": 5
}
