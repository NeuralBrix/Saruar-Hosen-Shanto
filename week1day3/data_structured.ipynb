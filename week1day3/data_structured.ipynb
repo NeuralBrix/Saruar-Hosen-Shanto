{
 "cells": [
  {
   "cell_type": "code",
   "execution_count": null,
   "id": "81bdb8db",
   "metadata": {},
   "outputs": [
    {
     "name": "stdout",
     "output_type": "stream",
     "text": [
      "['mehedi', 'hasan', 'sabbir', 'samiul', 'shanto']\n"
     ]
    }
   ],
   "source": [
    "list_1=[1 ,2, 3, 4, 5]\n",
    "list_1\n",
    "list_2=[\"mehedi\", \"hasan\", \"sabbir\", \"samiul\",\"shanto\"]\n",
    "print(list_2)\n"
   ]
  },
  {
   "cell_type": "code",
   "execution_count": 17,
   "id": "c073dce5",
   "metadata": {},
   "outputs": [
    {
     "data": {
      "text/plain": [
       "['mehedi', 'hasan', 'sabbir', 'samiul', 'shanto']"
      ]
     },
     "execution_count": 17,
     "metadata": {},
     "output_type": "execute_result"
    }
   ],
   "source": [
    "list_2"
   ]
  },
  {
   "cell_type": "code",
   "execution_count": null,
   "id": "7f661136",
   "metadata": {},
   "outputs": [
    {
     "name": "stdout",
     "output_type": "stream",
     "text": [
      "samiul\n"
     ]
    }
   ],
   "source": [
    "print(list_2[3])"
   ]
  },
  {
   "cell_type": "code",
   "execution_count": 22,
   "id": "6927588d",
   "metadata": {},
   "outputs": [
    {
     "name": "stdout",
     "output_type": "stream",
     "text": [
      "['mehedi hasan', 'hasan', 'sabbir', 'samiul islam', 'shanto']\n"
     ]
    }
   ],
   "source": [
    "#modify list_2\n",
    "list_2[3]=\"samiul islam\"\n",
    "list_2\n",
    "list_2[0]=\"mehedi hasan\"\n",
    "print(list_2)"
   ]
  },
  {
   "cell_type": "code",
   "execution_count": 34,
   "id": "174e808f",
   "metadata": {},
   "outputs": [
    {
     "name": "stdout",
     "output_type": "stream",
     "text": [
      "['mehedi hasan', 'Karim', 'Karim', 'Rahim', 'Karim', 'Rahim', 'Karim', 'Rahim', 'Karim', 'Rahim', 'Karim', 'Rahim', 'Karim', 'Rahim', 'Karim', 'rahim', 'hasan', 'rahim', 'rahim', 'sabbir', 'samiul islam', 'shanto', 'saruar', 'saruar', 'saruar', 'saruar', 'saruar', 'saruar', 'saruar', 'saruar', 'saruar', 'saruar', 'saruar']\n",
      "['mehedi hasan', 'Karim', 'Rahim', 'Karim', 'Rahim', 'Karim', 'Rahim', 'Karim', 'Rahim', 'Karim', 'Rahim', 'Karim', 'Rahim', 'Karim', 'Rahim', 'Karim', 'rahim', 'hasan', 'rahim', 'rahim', 'sabbir', 'samiul islam', 'shanto', 'saruar', 'saruar', 'saruar', 'saruar', 'saruar', 'saruar', 'saruar', 'saruar', 'saruar', 'saruar', 'saruar']\n",
      "['mehedi hasan', 'Karim', 'Karim', 'Rahim', 'Karim', 'Rahim', 'Karim', 'Rahim', 'Karim', 'Rahim', 'Karim', 'Rahim', 'Karim', 'Rahim', 'Karim', 'Rahim', 'Karim', 'rahim', 'hasan', 'rahim', 'rahim', 'sabbir', 'samiul islam', 'shanto', 'saruar', 'saruar', 'saruar', 'saruar', 'saruar', 'saruar', 'saruar', 'saruar', 'saruar', 'saruar', 'saruar']\n"
     ]
    }
   ],
   "source": [
    "#added new value in index \n",
    "#append method input a value at the end of the list\n",
    "list_2.append(\"saruar\")\n",
    "print(list_2)\n",
    "#insert method input a value at the specific index\n",
    "list_2.insert(2, \"Rahim\")\n",
    "print(list_2)\n",
    "list_2.insert(1, \"Karim\")\n",
    "print(list_2)"
   ]
  },
  {
   "cell_type": "code",
   "execution_count": 36,
   "id": "32a3892e",
   "metadata": {},
   "outputs": [
    {
     "name": "stdout",
     "output_type": "stream",
     "text": [
      "['mehedi hasan', 'Karim', 'Karim', 'Rahim', 'Karim', 'Rahim', 'saruar']\n"
     ]
    }
   ],
   "source": [
    "del list_2[6:-1]\n",
    "print(list_2)"
   ]
  },
  {
   "cell_type": "code",
   "execution_count": 37,
   "id": "b7a3b914",
   "metadata": {},
   "outputs": [
    {
     "data": {
      "text/plain": [
       "['mehedi hasan', 'Karim', 'Karim', 'Rahim', 'Karim', 'Rahim', 'saruar']"
      ]
     },
     "execution_count": 37,
     "metadata": {},
     "output_type": "execute_result"
    }
   ],
   "source": [
    "list_2"
   ]
  },
  {
   "cell_type": "code",
   "execution_count": 41,
   "id": "de0b609f",
   "metadata": {},
   "outputs": [
    {
     "name": "stdout",
     "output_type": "stream",
     "text": [
      "['mehedi hasan', 'Karim', 'Karim', 'Rahim', 'Karim', 'Rahim', 'saruar']\n"
     ]
    }
   ],
   "source": [
    "print(list_2)"
   ]
  },
  {
   "cell_type": "code",
   "execution_count": 44,
   "id": "9ccc4491",
   "metadata": {},
   "outputs": [
    {
     "name": "stdout",
     "output_type": "stream",
     "text": [
      "['mehedi hasan', 'Karim', 'Sahin', 'Sahin', 'Rahim', 'Karim', 'Rahim', 'Karim', 'Rahim', 'saruar']\n"
     ]
    }
   ],
   "source": [
    "list_2 .insert(2, \"Sahin\")\n",
    "print(list_2)\n"
   ]
  },
  {
   "cell_type": "code",
   "execution_count": 45,
   "id": "5b0f88f5",
   "metadata": {},
   "outputs": [
    {
     "name": "stdout",
     "output_type": "stream",
     "text": [
      "['mehedi hasan', 'Sahin', 'Sahin', 'Rahim', 'Karim', 'Rahim', 'Karim', 'Rahim', 'saruar']\n"
     ]
    }
   ],
   "source": [
    "#Remove a value from the list\n",
    "list_2.remove(\"Karim\")\n",
    "print(list_2)"
   ]
  },
  {
   "cell_type": "code",
   "execution_count": 49,
   "id": "5b4c1334",
   "metadata": {},
   "outputs": [
    {
     "name": "stdout",
     "output_type": "stream",
     "text": [
      "['mehedi hasan', 'Karim', 'Rahim', 'Karim', 'Rahim', 'saruar']\n"
     ]
    }
   ],
   "source": [
    "del list_2[1]\n",
    "print(list_2)"
   ]
  },
  {
   "cell_type": "code",
   "execution_count": 50,
   "id": "c3386daf",
   "metadata": {},
   "outputs": [
    {
     "name": "stdout",
     "output_type": "stream",
     "text": [
      "['mehedi hasan', 'Karim', 'Rahim', 'Rahim', 'saruar']\n"
     ]
    }
   ],
   "source": [
    "del list_2[3]\n",
    "print(list_2)"
   ]
  },
  {
   "cell_type": "code",
   "execution_count": 53,
   "id": "65a2f9fc",
   "metadata": {},
   "outputs": [
    {
     "name": "stdout",
     "output_type": "stream",
     "text": [
      "['mehedi hasan', 'Karim', 'saruar']\n"
     ]
    }
   ],
   "source": [
    "list_2\n",
    "list_2 .remove(\"Rahim\")\n",
    "print(list_2)"
   ]
  },
  {
   "cell_type": "code",
   "execution_count": 54,
   "id": "0b106ce3",
   "metadata": {},
   "outputs": [
    {
     "name": "stdout",
     "output_type": "stream",
     "text": [
      "['mehedi hasan', 'Karim']\n"
     ]
    }
   ],
   "source": [
    "#pop method removes the last value from the list\n",
    "name=list_2.pop()\n",
    "print(list_2)\n"
   ]
  },
  {
   "cell_type": "code",
   "execution_count": 76,
   "id": "f797ed70",
   "metadata": {},
   "outputs": [
    {
     "name": "stdout",
     "output_type": "stream",
     "text": [
      "my name is saruar\n"
     ]
    }
   ],
   "source": [
    "print(\"my name is\", name)"
   ]
  }
 ],
 "metadata": {
  "kernelspec": {
   "display_name": "mljob",
   "language": "python",
   "name": "python3"
  },
  "language_info": {
   "codemirror_mode": {
    "name": "ipython",
    "version": 3
   },
   "file_extension": ".py",
   "mimetype": "text/x-python",
   "name": "python",
   "nbconvert_exporter": "python",
   "pygments_lexer": "ipython3",
   "version": "3.10.18"
  }
 },
 "nbformat": 4,
 "nbformat_minor": 5
}
