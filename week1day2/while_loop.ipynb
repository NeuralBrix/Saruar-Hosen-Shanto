{
 "cells": [
  {
   "cell_type": "code",
   "execution_count": 7,
   "id": "b9643485",
   "metadata": {},
   "outputs": [
    {
     "name": "stdout",
     "output_type": "stream",
     "text": [
      "saruar hosen shanto\n",
      "saruar hosen shanto\n",
      "saruar hosen shanto\n",
      "saruar hosen shanto\n",
      "saruar hosen shanto\n"
     ]
    }
   ],
   "source": [
    "for i in range(5):\n",
    "    print(\"saruar hosen shanto\")"
   ]
  },
  {
   "cell_type": "code",
   "execution_count": null,
   "id": "f35c6d0c",
   "metadata": {},
   "outputs": [],
   "source": []
  },
  {
   "cell_type": "code",
   "execution_count": null,
   "id": "939d83a8",
   "metadata": {},
   "outputs": [],
   "source": []
  },
  {
   "cell_type": "code",
   "execution_count": null,
   "id": "b6545ace",
   "metadata": {},
   "outputs": [],
   "source": []
  },
  {
   "cell_type": "code",
   "execution_count": null,
   "id": "676ed922",
   "metadata": {},
   "outputs": [],
   "source": []
  }
 ],
 "metadata": {
  "kernelspec": {
   "display_name": "mljob",
   "language": "python",
   "name": "python3"
  },
  "language_info": {
   "codemirror_mode": {
    "name": "ipython",
    "version": 3
   },
   "file_extension": ".py",
   "mimetype": "text/x-python",
   "name": "python",
   "nbconvert_exporter": "python",
   "pygments_lexer": "ipython3",
   "version": "3.10.18"
  }
 },
 "nbformat": 4,
 "nbformat_minor": 5
}
