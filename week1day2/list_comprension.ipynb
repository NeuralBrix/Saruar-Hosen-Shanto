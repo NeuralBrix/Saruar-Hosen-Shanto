{
 "cells": [
  {
   "cell_type": "code",
   "execution_count": 6,
   "id": "de2bf904",
   "metadata": {},
   "outputs": [
    {
     "name": "stdout",
     "output_type": "stream",
     "text": [
      "[0, 1, 8, 27, 64]\n"
     ]
    }
   ],
   "source": [
    "squire=[]\n",
    "for i in range(5):\n",
    "    squire.append(i**3)\n",
    "print(squire)"
   ]
  },
  {
   "cell_type": "code",
   "execution_count": 13,
   "id": "822e43d1",
   "metadata": {},
   "outputs": [
    {
     "name": "stdout",
     "output_type": "stream",
     "text": [
      "[0, 1, 8, 27, 64]\n"
     ]
    }
   ],
   "source": [
    "#expression for itemin iterable\n",
    "squire=[i**3 for i in range(5)]\n",
    "print(squire)\n"
   ]
  },
  {
   "cell_type": "code",
   "execution_count": 28,
   "id": "f5ef6e06",
   "metadata": {},
   "outputs": [
    {
     "data": {
      "text/plain": [
       "[3, 5, 7, 9]"
      ]
     },
     "execution_count": 28,
     "metadata": {},
     "output_type": "execute_result"
    }
   ],
   "source": [
    "[i for i in range(10)]\n",
    "#[i for i in range(10) if i%2==0]\n",
    "[i for i in range(3,10,2)]\n"
   ]
  },
  {
   "cell_type": "code",
   "execution_count": 31,
   "id": "f7f3408b",
   "metadata": {},
   "outputs": [
    {
     "name": "stdout",
     "output_type": "stream",
     "text": [
      "[3, 4, 5, 6, 7, 8, 9]\n",
      "[100, 4, 5, 6, 7, 8, 9]\n",
      "[100, 4, 5, 7, 8, 9]\n"
     ]
    }
   ],
   "source": [
    "list1=list(range(3,10))\n",
    "print(list1)\n",
    "list1[0]=100\n",
    "print(list1)\n",
    "list1 .remove(6)\n",
    "print(list1)"
   ]
  }
 ],
 "metadata": {
  "kernelspec": {
   "display_name": "mljob",
   "language": "python",
   "name": "python3"
  },
  "language_info": {
   "codemirror_mode": {
    "name": "ipython",
    "version": 3
   },
   "file_extension": ".py",
   "mimetype": "text/x-python",
   "name": "python",
   "nbconvert_exporter": "python",
   "pygments_lexer": "ipython3",
   "version": "3.10.18"
  }
 },
 "nbformat": 4,
 "nbformat_minor": 5
}
