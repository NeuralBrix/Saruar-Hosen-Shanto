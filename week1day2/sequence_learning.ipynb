{
 "cells": [
  {
   "cell_type": "code",
   "execution_count": 6,
   "id": "7ee50c98",
   "metadata": {},
   "outputs": [
    {
     "name": "stdout",
     "output_type": "stream",
     "text": [
      "True\n",
      "True\n",
      "True\n",
      "False\n",
      "False\n",
      "False\n"
     ]
    }
   ],
   "source": [
    "tup_1 = (1, 2, 3, 4, 5)\n",
    "tup_2 = (1,2,3,4,5)\n",
    "set_1 = {1, 2, 3, 4, 5}\n",
    "set_2 = {1, 2, 3, 4, 5}\n",
    "list_1 = [1, 2, 3, 4, 5]\n",
    "list_2 = [1, 2, 3, 4, 5]\n",
    "\n",
    "print(tup_1 == tup_2)\n",
    "print(set_1 == set_2)\n",
    "print(list_1 == list_2)\n",
    "print(tup_1 is tup_2)\n",
    "print(set_1 is set_2) \n",
    "print(list_1 is list_2)   "
   ]
  },
  {
   "cell_type": "code",
   "execution_count": 8,
   "id": "82a952ff",
   "metadata": {},
   "outputs": [
    {
     "data": {
      "text/plain": [
       "5"
      ]
     },
     "execution_count": 8,
     "metadata": {},
     "output_type": "execute_result"
    }
   ],
   "source": [
    "list_1= [1, 2, 3, 4, 5]\n",
    "list_1[4]"
   ]
  },
  {
   "cell_type": "code",
   "execution_count": 16,
   "id": "6e3a52bf",
   "metadata": {},
   "outputs": [
    {
     "data": {
      "text/plain": [
       "[10, 2, 3, 4, 5]"
      ]
     },
     "execution_count": 16,
     "metadata": {},
     "output_type": "execute_result"
    }
   ],
   "source": [
    "list_1[0]=10\n",
    "list_1\n"
   ]
  },
  {
   "cell_type": "code",
   "execution_count": 20,
   "id": "44ac7072",
   "metadata": {},
   "outputs": [
    {
     "data": {
      "text/plain": [
       "10"
      ]
     },
     "execution_count": 20,
     "metadata": {},
     "output_type": "execute_result"
    }
   ],
   "source": [
    "list_1[0]"
   ]
  }
 ],
 "metadata": {
  "kernelspec": {
   "display_name": "mljob",
   "language": "python",
   "name": "python3"
  },
  "language_info": {
   "codemirror_mode": {
    "name": "ipython",
    "version": 3
   },
   "file_extension": ".py",
   "mimetype": "text/x-python",
   "name": "python",
   "nbconvert_exporter": "python",
   "pygments_lexer": "ipython3",
   "version": "3.10.18"
  }
 },
 "nbformat": 4,
 "nbformat_minor": 5
}
