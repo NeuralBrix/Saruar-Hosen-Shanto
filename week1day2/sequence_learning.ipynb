{
 "cells": [
  {
   "cell_type": "code",
   "execution_count": 6,
   "id": "7ee50c98",
   "metadata": {},
   "outputs": [
    {
     "name": "stdout",
     "output_type": "stream",
     "text": [
      "True\n",
      "True\n",
      "True\n",
      "False\n",
      "False\n",
      "False\n"
     ]
    }
   ],
   "source": [
    "tup_1 = (1, 2, 3, 4, 5)\n",
    "tup_2 = (1,2,3,4,5)\n",
    "set_1 = {1, 2, 3, 4, 5}\n",
    "set_2 = {1, 2, 3, 4, 5}\n",
    "list_1 = [1, 2, 3, 4, 5]\n",
    "list_2 = [1, 2, 3, 4, 5]\n",
    "\n",
    "print(tup_1 == tup_2)\n",
    "print(set_1 == set_2)\n",
    "print(list_1 == list_2)\n",
    "print(tup_1 is tup_2)\n",
    "print(set_1 is set_2) \n",
    "print(list_1 is list_2)   "
   ]
  },
  {
   "cell_type": "code",
   "execution_count": 43,
   "id": "82a952ff",
   "metadata": {},
   "outputs": [
    {
     "name": "stdout",
     "output_type": "stream",
     "text": [
      "[1, 2, 3, 4, ['a', 'b', 'x', 'd'], 5]\n",
      "[1, 2, 3, 4, ['a', 'b', 'x', 'd', 'e'], 5]\n",
      "[1, 2, 3, 4, ['b', 'x', 'd', 'e'], 5]\n",
      "[1, 2, 3, 4, ['y', 'b', 'x', 'd', 'e'], 5]\n"
     ]
    },
    {
     "data": {
      "text/plain": [
       "[1, 2, 3, 4, ['y', 'b', 'x', 'd', 'e'], 5]"
      ]
     },
     "execution_count": 43,
     "metadata": {},
     "output_type": "execute_result"
    }
   ],
   "source": [
    "list_3= [1, 2, 3, 4,['a','b','c','d'],5]\n",
    "\n",
    "list_3[4][2] = 'x'\n",
    "print(list_3)\n",
    "list_3[4].append('e')\n",
    "print(list_3)\n",
    "list_3[4].remove('a')\n",
    "print(list_3)\n",
    "list_3[4].insert(0, 'y')\n",
    "print(list_3)\n",
    "list_3\n",
    "\n"
   ]
  },
  {
   "cell_type": "code",
   "execution_count": 45,
   "id": "9afe27ce",
   "metadata": {},
   "outputs": [
    {
     "name": "stdout",
     "output_type": "stream",
     "text": [
      "[1, 2, 3, 4, ['a', 'b', 'c', 'd'], 5, 'f']\n"
     ]
    }
   ],
   "source": [
    "list_3= [1, 2, 3, 4,['a','b','c','d'],5]\n",
    "list_3 .append('f')\n",
    "print(list_3)\n",
    "\n"
   ]
  },
  {
   "cell_type": "code",
   "execution_count": null,
   "id": "301547ed",
   "metadata": {},
   "outputs": [],
   "source": []
  },
  {
   "cell_type": "code",
   "execution_count": 16,
   "id": "6e3a52bf",
   "metadata": {},
   "outputs": [
    {
     "data": {
      "text/plain": [
       "[10, 2, 3, 4, 5]"
      ]
     },
     "execution_count": 16,
     "metadata": {},
     "output_type": "execute_result"
    }
   ],
   "source": [
    "list_1[0]=10\n",
    "list_1\n"
   ]
  },
  {
   "cell_type": "code",
   "execution_count": 20,
   "id": "44ac7072",
   "metadata": {},
   "outputs": [
    {
     "data": {
      "text/plain": [
       "10"
      ]
     },
     "execution_count": 20,
     "metadata": {},
     "output_type": "execute_result"
    }
   ],
   "source": [
    "list_1[0]"
   ]
  }
 ],
 "metadata": {
  "kernelspec": {
   "display_name": "mljob",
   "language": "python",
   "name": "python3"
  },
  "language_info": {
   "codemirror_mode": {
    "name": "ipython",
    "version": 3
   },
   "file_extension": ".py",
   "mimetype": "text/x-python",
   "name": "python",
   "nbconvert_exporter": "python",
   "pygments_lexer": "ipython3",
   "version": "3.10.18"
  }
 },
 "nbformat": 4,
 "nbformat_minor": 5
}
