{
 "cells": [
  {
   "cell_type": "code",
   "execution_count": 4,
   "id": "770d8fe2",
   "metadata": {},
   "outputs": [
    {
     "name": "stdout",
     "output_type": "stream",
     "text": [
      "You are still young\n"
     ]
    }
   ],
   "source": [
    "age = 26\n",
    "if age>=29:\n",
    "    print(\"You already passed your half life\")\n",
    "    \n",
    "else:\n",
    "    print(\"You are still young\")"
   ]
  },
  {
   "cell_type": "code",
   "execution_count": 5,
   "id": "204a5aee",
   "metadata": {},
   "outputs": [
    {
     "name": "stdout",
     "output_type": "stream",
     "text": [
      "Your ticket price is $25\n"
     ]
    }
   ],
   "source": [
    "age = 12\n",
    "if age < 4:\n",
    "    price = 0\n",
    "elif age < 18:\n",
    "    price = 25\n",
    "else:\n",
    "    price = 40\n",
    "\n",
    "print(f\"Your ticket price is ${price}\")"
   ]
  },
  {
   "cell_type": "code",
   "execution_count": 9,
   "id": "27056355",
   "metadata": {},
   "outputs": [
    {
     "name": "stdout",
     "output_type": "stream",
     "text": [
      "You have an Audi\n"
     ]
    }
   ],
   "source": [
    "car=\"audi\"\n",
    "if car == \"bmw\":\n",
    "    print(\"You have a BMW\")\n",
    "elif car == \"audi\":\n",
    "    print(\"You have an Audi\")\n"
   ]
  },
  {
   "cell_type": "code",
   "execution_count": 10,
   "id": "d1939af6",
   "metadata": {},
   "outputs": [
    {
     "name": "stdout",
     "output_type": "stream",
     "text": [
      "True\n",
      "False\n"
     ]
    }
   ],
   "source": [
    "car = \"audi\"\n",
    "print(car==\"audi\")\n",
    "print(car != \"audi\")"
   ]
  },
  {
   "cell_type": "code",
   "execution_count": 12,
   "id": "0f139460",
   "metadata": {},
   "outputs": [
    {
     "name": "stdout",
     "output_type": "stream",
     "text": [
      "True\n",
      "False\n",
      "False\n",
      "False\n",
      "True\n",
      "True\n"
     ]
    }
   ],
   "source": [
    "#Numeric comparison\n",
    "age = 18\n",
    "print(age == 18) #True\n",
    "print(age != 18) #False\n",
    "print(age < 18) #False\n",
    "print(age > 18) #False\n",
    "print(age <= 18) #True\n",
    "print(age >= 18) #True"
   ]
  },
  {
   "cell_type": "code",
   "execution_count": 15,
   "id": "9d4ffb03",
   "metadata": {},
   "outputs": [
    {
     "name": "stdout",
     "output_type": "stream",
     "text": [
      "False\n",
      "True\n"
     ]
    }
   ],
   "source": [
    "#logical operators\n",
    "age = 17 \n",
    "print( age >= 18 and age == 65) # 0 * 0=0 (False)\n",
    "print( age >= 18 or age != 65)  # 0 +1 = 1 (True)"
   ]
  },
  {
   "cell_type": "code",
   "execution_count": 20,
   "id": "f2b8a2a9",
   "metadata": {},
   "outputs": [
    {
     "name": "stdout",
     "output_type": "stream",
     "text": [
      "True\n",
      "False\n",
      "False\n",
      "False\n"
     ]
    }
   ],
   "source": [
    "x=True\n",
    "print(x)\n",
    "print(not x) #False\n",
    "b= not x\n",
    "print(b) #False\n",
    "x= not x\n",
    "print(x) #False"
   ]
  },
  {
   "cell_type": "code",
   "execution_count": null,
   "id": "1c542063",
   "metadata": {},
   "outputs": [
    {
     "name": "stdout",
     "output_type": "stream",
     "text": [
      "True\n",
      "False\n"
     ]
    }
   ],
   "source": [
    "#identity operator\n",
    "x=10\n",
    "y=10\n",
    "print(x is y) #True  ==\n",
    "print(x is not y) #False !=\n"
   ]
  },
  {
   "cell_type": "code",
   "execution_count": 28,
   "id": "d294ab67",
   "metadata": {},
   "outputs": [
    {
     "name": "stdout",
     "output_type": "stream",
     "text": [
      "[1, 2, 3]\n",
      "True\n",
      "False\n",
      "True\n"
     ]
    }
   ],
   "source": [
    "list1 = [1, 2, 3]\n",
    "list2 = list1\n",
    "list3 = [1, 2, 3]\n",
    "print(list2)\n",
    "print(list1 is list2)\n",
    "print(list1 is list3) #False, because they are different objects\n",
    "print(list1 == list3) #True, because they have the same content \n",
    "\n"
   ]
  }
 ],
 "metadata": {
  "kernelspec": {
   "display_name": "mljob",
   "language": "python",
   "name": "python3"
  },
  "language_info": {
   "codemirror_mode": {
    "name": "ipython",
    "version": 3
   },
   "file_extension": ".py",
   "mimetype": "text/x-python",
   "name": "python",
   "nbconvert_exporter": "python",
   "pygments_lexer": "ipython3",
   "version": "3.10.18"
  }
 },
 "nbformat": 4,
 "nbformat_minor": 5
}
