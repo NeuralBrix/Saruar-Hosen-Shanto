{
 "cells": [
  {
   "cell_type": "code",
   "execution_count": 1,
   "id": "0d31e713",
   "metadata": {},
   "outputs": [
    {
     "name": "stdout",
     "output_type": "stream",
     "text": [
      "Hello ,Student!\n"
     ]
    }
   ],
   "source": [
    "print(\"Hello ,Student!\")"
   ]
  },
  {
   "cell_type": "code",
   "execution_count": 3,
   "id": "2906f2a4",
   "metadata": {},
   "outputs": [],
   "source": [
    "def greeting(name):\n",
    "    print(f\"Hello, {name}!\")"
   ]
  },
  {
   "cell_type": "code",
   "execution_count": 4,
   "id": "3095e476",
   "metadata": {},
   "outputs": [
    {
     "name": "stdout",
     "output_type": "stream",
     "text": [
      "Hello, Student!\n"
     ]
    }
   ],
   "source": [
    "greeting(\"Student\")"
   ]
  },
  {
   "cell_type": "code",
   "execution_count": 5,
   "id": "3224da10",
   "metadata": {},
   "outputs": [
    {
     "name": "stdout",
     "output_type": "stream",
     "text": [
      "Hello, Shanto!\n"
     ]
    }
   ],
   "source": [
    "greeting(\"Shanto\")"
   ]
  },
  {
   "cell_type": "code",
   "execution_count": null,
   "id": "3798abe4",
   "metadata": {},
   "outputs": [],
   "source": [
    "def fun(a, b):\n",
    "    print(a + b)\n",
    "    print(a - b)"
   ]
  },
  {
   "cell_type": "code",
   "execution_count": 7,
   "id": "bded3633",
   "metadata": {},
   "outputs": [
    {
     "name": "stdout",
     "output_type": "stream",
     "text": [
      "8\n",
      "2\n"
     ]
    }
   ],
   "source": [
    "fun(5, 3)"
   ]
  },
  {
   "cell_type": "code",
   "execution_count": 8,
   "id": "856ab39e",
   "metadata": {},
   "outputs": [],
   "source": [
    "def area_of_circle(radius):\n",
    "    pi = 3.14\n",
    "    print(pi * radius * radius)"
   ]
  },
  {
   "cell_type": "code",
   "execution_count": 9,
   "id": "0c142ef9",
   "metadata": {},
   "outputs": [
    {
     "name": "stdout",
     "output_type": "stream",
     "text": [
      "78.5\n"
     ]
    }
   ],
   "source": [
    "area_of_circle(5)"
   ]
  },
  {
   "cell_type": "code",
   "execution_count": null,
   "id": "f58a18f3",
   "metadata": {},
   "outputs": [],
   "source": [
    "# positional arguments\n",
    "def area_of_circle(radius,length):\n",
    "    print((3.1416 * radius * radius)+length)"
   ]
  },
  {
   "cell_type": "code",
   "execution_count": null,
   "id": "5f4c60ac",
   "metadata": {},
   "outputs": [],
   "source": []
  },
  {
   "cell_type": "code",
   "execution_count": null,
   "id": "ec2f9a48",
   "metadata": {},
   "outputs": [
    {
     "name": "stdout",
     "output_type": "stream",
     "text": [
      "81.54\n"
     ]
    }
   ],
   "source": [
    "area_of_circle(5,3) #radius = 5, length = 3"
   ]
  },
  {
   "cell_type": "code",
   "execution_count": null,
   "id": "f2cfaf20",
   "metadata": {},
   "outputs": [
    {
     "name": "stdout",
     "output_type": "stream",
     "text": [
      "33.2744\n"
     ]
    }
   ],
   "source": [
    "area_of_circle(3,5) #radius = 3, length = 5"
   ]
  },
  {
   "cell_type": "code",
   "execution_count": null,
   "id": "6b32f946",
   "metadata": {},
   "outputs": [],
   "source": [
    "#2nd keword argument\n",
    "def area_of_circle(radius,length=3):\n",
    "    print((3.1416 * radius * radius)+length)\n",
    "    "
   ]
  },
  {
   "cell_type": "code",
   "execution_count": 15,
   "id": "a73688d2",
   "metadata": {},
   "outputs": [
    {
     "name": "stdout",
     "output_type": "stream",
     "text": [
      "81.54\n"
     ]
    }
   ],
   "source": [
    "area_of_circle(5)"
   ]
  },
  {
   "cell_type": "code",
   "execution_count": 27,
   "id": "237a6618",
   "metadata": {},
   "outputs": [
    {
     "name": "stdout",
     "output_type": "stream",
     "text": [
      "33.2744\n"
     ]
    }
   ],
   "source": [
    "area_of_circle( length=5, radius=3,) # 3 is the radius"
   ]
  },
  {
   "cell_type": "code",
   "execution_count": 1,
   "id": "9623508c",
   "metadata": {},
   "outputs": [],
   "source": [
    "# var-positional arguments\n",
    "def area(*args): #circle area\n",
    "    print(args)\n",
    "    print(sum(args))"
   ]
  },
  {
   "cell_type": "code",
   "execution_count": 2,
   "id": "c2d240c2",
   "metadata": {},
   "outputs": [
    {
     "name": "stdout",
     "output_type": "stream",
     "text": [
      "(5, 3, 2, 3, 4, 4, 2, 2, 56, 4, 4, 3, 8, 9, 2, 3, 4)\n",
      "118\n"
     ]
    }
   ],
   "source": [
    "area(5, 3, 2,3,4,4,2,2,56,4,4,3,8,9,2,3,4)"
   ]
  },
  {
   "cell_type": "code",
   "execution_count": null,
   "id": "91e6e0e6",
   "metadata": {},
   "outputs": [],
   "source": []
  },
  {
   "cell_type": "code",
   "execution_count": null,
   "id": "f9f26a27",
   "metadata": {},
   "outputs": [],
   "source": [
    "def area (radius):\n",
    "    print(3.1416 * radius * radius)"
   ]
  },
  {
   "cell_type": "code",
   "execution_count": 2,
   "id": "ba36aee9",
   "metadata": {},
   "outputs": [
    {
     "name": "stdout",
     "output_type": "stream",
     "text": [
      "78.54\n"
     ]
    }
   ],
   "source": [
    "area(5)"
   ]
  },
  {
   "cell_type": "code",
   "execution_count": 10,
   "metadata": {},
   "outputs": [],
   "source": [
    "def area (radius,length):\n",
    "    print((3.1416 * radius * radius)+length)"
   ]
  },
  {
   "cell_type": "code",
   "execution_count": 11,
   "metadata": {},
   "outputs": [
    {
     "name": "stdout",
     "output_type": "stream",
     "text": [
      "81.54\n"
     ]
    }
   ],
   "source": [
    "area(5,3)"
   ]
  },
  {
   "cell_type": "code",
   "execution_count": 16,
   "metadata": {},
   "outputs": [],
   "source": [
    "def area (radius,length=3):\n",
    "    print((3.1416 * radius * radius)+length)"
   ]
  },
  {
   "cell_type": "code",
   "execution_count": 17,
   "metadata": {},
   "outputs": [
    {
     "name": "stdout",
     "output_type": "stream",
     "text": [
      "81.54\n"
     ]
    }
   ],
   "source": [
    "area(5)"
   ]
  },
  {
   "cell_type": "code",
   "execution_count": null,
   "id": "edb6f6cd",
   "metadata": {},
   "outputs": [],
   "source": [
    "def area (radius,length=3):\n",
    "    print((3.1416 * radius * radius)+length)"
   ]
  },
  {
   "cell_type": "code",
   "execution_count": 18,
   "id": "cf0d7854",
   "metadata": {},
   "outputs": [
    {
     "name": "stdout",
     "output_type": "stream",
     "text": [
      "33.2744\n"
     ]
    }
   ],
   "source": [
    "area(radius=3 ,length=5)"
   ]
  },
  {
   "cell_type": "code",
   "execution_count": 19,
   "id": "324ffacd",
   "metadata": {},
   "outputs": [
    {
     "name": "stdout",
     "output_type": "stream",
     "text": [
      "33.2744\n"
     ]
    }
   ],
   "source": [
    "area(length=5,radius=3)"
   ]
  },
  {
   "cell_type": "code",
   "execution_count": 25,
   "id": "826aaffb",
   "metadata": {},
   "outputs": [
    {
     "ename": "TypeError",
     "evalue": "area() got an unexpected keyword argument 'radius'",
     "output_type": "error",
     "traceback": [
      "\u001b[1;31m---------------------------------------------------------------------------\u001b[0m",
      "\u001b[1;31mTypeError\u001b[0m                                 Traceback (most recent call last)",
      "Cell \u001b[1;32mIn[25], line 4\u001b[0m\n\u001b[0;32m      2\u001b[0m     \u001b[38;5;28mprint\u001b[39m(kwargs)\n\u001b[0;32m      3\u001b[0m     \u001b[38;5;28mprint\u001b[39m(kwargs\u001b[38;5;241m.\u001b[39mvalues())\n\u001b[1;32m----> 4\u001b[0m \u001b[43marea\u001b[49m\u001b[43m(\u001b[49m\u001b[43mradius\u001b[49m\u001b[38;5;241;43m=\u001b[39;49m\u001b[38;5;241;43m3\u001b[39;49m\u001b[43m,\u001b[49m\u001b[43mlength\u001b[49m\u001b[38;5;241;43m=\u001b[39;49m\u001b[38;5;241;43m10\u001b[39;49m\u001b[43m,\u001b[49m\u001b[43mwidth\u001b[49m\u001b[38;5;241;43m=\u001b[39;49m\u001b[38;5;241;43m3\u001b[39;49m\u001b[43m,\u001b[49m\u001b[43mheight\u001b[49m\u001b[38;5;241;43m=\u001b[39;49m\u001b[38;5;241;43m6\u001b[39;49m\u001b[43m)\u001b[49m\n",
      "\u001b[1;31mTypeError\u001b[0m: area() got an unexpected keyword argument 'radius'"
     ]
    }
   ],
   "source": [
    "def hello(*kwargs):\n",
    "    print(kwargs)\n",
    "    print(kwargs.values())\n",
    "area(radius=3,length=10,width=3,height=6)"
   ]
  },
  {
   "cell_type": "code",
   "execution_count": 12,
   "id": "15898d29",
   "metadata": {},
   "outputs": [],
   "source": [
    "# var-positional arguments\n",
    "def area(*args): #circle area\n",
    "    print(args)\n",
    "    print(sum(args))"
   ]
  },
  {
   "cell_type": "code",
   "execution_count": 13,
   "id": "873ed15a",
   "metadata": {},
   "outputs": [
    {
     "name": "stdout",
     "output_type": "stream",
     "text": [
      "(3, 4, 5, 6, 7, 8, 9, 2)\n",
      "44\n"
     ]
    }
   ],
   "source": [
    "area(3,4,5,6,7,8,9,2)"
   ]
  },
  {
   "cell_type": "code",
   "execution_count": 17,
   "id": "12867e3b",
   "metadata": {},
   "outputs": [
    {
     "name": "stdout",
     "output_type": "stream",
     "text": [
      "{'radius': 3, 'length': 3, 'width': 23, 'height': 7}\n",
      "dict_values([3, 3, 23, 7])\n",
      "dict_keys(['radius', 'length', 'width', 'height'])\n"
     ]
    }
   ],
   "source": [
    "\n",
    "# var-positional arguments\n",
    "def area(**kwargs): #circle area\n",
    "    print(kwargs)\n",
    "    print(kwargs.values())\n",
    "    print(kwargs.keys())\n",
    "    #print(sum(kwargs)\n",
    "    \n",
    "area(radius=3,length=3,width=23,height=7)"
   ]
  },
  {
   "cell_type": "code",
   "execution_count": 18,
   "id": "8daec448",
   "metadata": {},
   "outputs": [
    {
     "name": "stdout",
     "output_type": "stream",
     "text": [
      "{}\n",
      "dict_values([])\n",
      "dict_keys([])\n"
     ]
    }
   ],
   "source": [
    "area()"
   ]
  },
  {
   "cell_type": "code",
   "execution_count": 19,
   "id": "dada557c",
   "metadata": {},
   "outputs": [
    {
     "name": "stdout",
     "output_type": "stream",
     "text": [
      "(2, 3)\n"
     ]
    }
   ],
   "source": [
    "# only keyword argument\n",
    "a=2,3\n",
    "print (a)"
   ]
  },
  {
   "cell_type": "code",
   "execution_count": 34,
   "id": "59d8c09c",
   "metadata": {},
   "outputs": [],
   "source": [
    "def area(radius,*,length):\n",
    "    print((3.1416*radius*radius)+length)"
   ]
  },
  {
   "cell_type": "code",
   "execution_count": 39,
   "id": "450612c2",
   "metadata": {},
   "outputs": [
    {
     "name": "stdout",
     "output_type": "stream",
     "text": [
      "32.2744\n"
     ]
    }
   ],
   "source": [
    "area(3,length=4)"
   ]
  },
  {
   "cell_type": "code",
   "execution_count": 46,
   "id": "61bf6be5",
   "metadata": {},
   "outputs": [],
   "source": [
    "# def area(radius,length,/):\n",
    "#     print((3.1416*radius*radius)+length)\n",
    "def area(radius,/,length):\n",
    "    print((3.1416*radius*radius)+length)"
   ]
  },
  {
   "cell_type": "code",
   "execution_count": null,
   "id": "72b9e004",
   "metadata": {},
   "outputs": [
    {
     "name": "stdout",
     "output_type": "stream",
     "text": [
      "38.2744\n"
     ]
    }
   ],
   "source": [
    "area(3,length=10) #must be used in position "
   ]
  },
  {
   "cell_type": "code",
   "execution_count": null,
   "id": "fa5d97a4",
   "metadata": {},
   "outputs": [],
   "source": [
    "#function signature\n",
    "def f (a,/,b,c=20,*args,d=4,**kwargs)\n",
    "\n",
    "    "
   ]
  },
  {
   "cell_type": "code",
   "execution_count": null,
   "id": "100e8ef5",
   "metadata": {},
   "outputs": [],
   "source": []
  },
  {
   "cell_type": "code",
   "execution_count": null,
   "id": "481c97e5",
   "metadata": {},
   "outputs": [],
   "source": [
    "area()"
   ]
  },
  {
   "cell_type": "code",
   "execution_count": 42,
   "id": "2eba45be",
   "metadata": {},
   "outputs": [
    {
     "name": "stdout",
     "output_type": "stream",
     "text": [
      "32.2744\n"
     ]
    }
   ],
   "source": [
    "area(3,4)"
   ]
  },
  {
   "cell_type": "code",
   "execution_count": null,
   "id": "cf777316",
   "metadata": {},
   "outputs": [],
   "source": []
  },
  {
   "cell_type": "code",
   "execution_count": null,
   "id": "2d89bc4e",
   "metadata": {},
   "outputs": [],
   "source": []
  }
 ],
 "metadata": {
  "kernelspec": {
   "display_name": "mljob",
   "language": "python",
   "name": "python3"
  },
  "language_info": {
   "codemirror_mode": {
    "name": "ipython",
    "version": 3
   },
   "file_extension": ".py",
   "mimetype": "text/x-python",
   "name": "python",
   "nbconvert_exporter": "python",
   "pygments_lexer": "ipython3",
   "version": "3.10.18"
  }
 },
 "nbformat": 4,
 "nbformat_minor": 5
}
