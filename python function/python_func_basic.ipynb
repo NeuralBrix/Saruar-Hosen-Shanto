{
 "cells": [
  {
   "cell_type": "code",
   "execution_count": 1,
   "id": "0d31e713",
   "metadata": {},
   "outputs": [
    {
     "name": "stdout",
     "output_type": "stream",
     "text": [
      "Hello ,Student!\n"
     ]
    }
   ],
   "source": [
    "print(\"Hello ,Student!\")"
   ]
  },
  {
   "cell_type": "code",
   "execution_count": 3,
   "id": "2906f2a4",
   "metadata": {},
   "outputs": [],
   "source": [
    "def greeting(name):\n",
    "    print(f\"Hello, {name}!\")"
   ]
  },
  {
   "cell_type": "code",
   "execution_count": 4,
   "id": "3095e476",
   "metadata": {},
   "outputs": [
    {
     "name": "stdout",
     "output_type": "stream",
     "text": [
      "Hello, Student!\n"
     ]
    }
   ],
   "source": [
    "greeting(\"Student\")"
   ]
  },
  {
   "cell_type": "code",
   "execution_count": 5,
   "id": "3224da10",
   "metadata": {},
   "outputs": [
    {
     "name": "stdout",
     "output_type": "stream",
     "text": [
      "Hello, Shanto!\n"
     ]
    }
   ],
   "source": [
    "greeting(\"Shanto\")"
   ]
  },
  {
   "cell_type": "code",
   "execution_count": null,
   "id": "3798abe4",
   "metadata": {},
   "outputs": [],
   "source": [
    "def fun(a, b):\n",
    "    print(a + b)\n",
    "    print(a - b)"
   ]
  },
  {
   "cell_type": "code",
   "execution_count": 7,
   "id": "bded3633",
   "metadata": {},
   "outputs": [
    {
     "name": "stdout",
     "output_type": "stream",
     "text": [
      "8\n",
      "2\n"
     ]
    }
   ],
   "source": [
    "fun(5, 3)"
   ]
  },
  {
   "cell_type": "code",
   "execution_count": 8,
   "id": "856ab39e",
   "metadata": {},
   "outputs": [],
   "source": [
    "def area_of_circle(radius):\n",
    "    pi = 3.14\n",
    "    print(pi * radius * radius)"
   ]
  },
  {
   "cell_type": "code",
   "execution_count": 9,
   "id": "0c142ef9",
   "metadata": {},
   "outputs": [
    {
     "name": "stdout",
     "output_type": "stream",
     "text": [
      "78.5\n"
     ]
    }
   ],
   "source": [
    "area_of_circle(5)"
   ]
  },
  {
   "cell_type": "code",
   "execution_count": null,
   "id": "f58a18f3",
   "metadata": {},
   "outputs": [],
   "source": [
    "# positional arguments\n",
    "def area_of_circle(radius,length):\n",
    "    print((3.1416 * radius * radius)+length)"
   ]
  },
  {
   "cell_type": "code",
   "execution_count": null,
   "id": "ec2f9a48",
   "metadata": {},
   "outputs": [
    {
     "name": "stdout",
     "output_type": "stream",
     "text": [
      "81.54\n"
     ]
    }
   ],
   "source": [
    "area_of_circle(5,3) #radius = 5, length = 3"
   ]
  },
  {
   "cell_type": "code",
   "execution_count": null,
   "id": "f2cfaf20",
   "metadata": {},
   "outputs": [
    {
     "name": "stdout",
     "output_type": "stream",
     "text": [
      "33.2744\n"
     ]
    }
   ],
   "source": [
    "area_of_circle(3,5) #radius = 3, length = 5"
   ]
  },
  {
   "cell_type": "code",
   "execution_count": null,
   "id": "6b32f946",
   "metadata": {},
   "outputs": [],
   "source": [
    "#2nd keword argument\n",
    "def area_of_circle(radius,length=3):\n",
    "    print((3.1416 * radius * radius)+length)\n",
    "    "
   ]
  },
  {
   "cell_type": "code",
   "execution_count": 15,
   "id": "a73688d2",
   "metadata": {},
   "outputs": [
    {
     "name": "stdout",
     "output_type": "stream",
     "text": [
      "81.54\n"
     ]
    }
   ],
   "source": [
    "area_of_circle(5)"
   ]
  },
  {
   "cell_type": "code",
   "execution_count": 27,
   "id": "237a6618",
   "metadata": {},
   "outputs": [
    {
     "name": "stdout",
     "output_type": "stream",
     "text": [
      "33.2744\n"
     ]
    }
   ],
   "source": [
    "area_of_circle( length=5, radius=3,) # 3 is the radius"
   ]
  },
  {
   "cell_type": "code",
   "execution_count": 28,
   "id": "9623508c",
   "metadata": {},
   "outputs": [],
   "source": [
    "# var-positional arguments\n",
    "def area(*args): #circle area\n",
    "    print(args)\n",
    "    print(sum(args))"
   ]
  },
  {
   "cell_type": "code",
   "execution_count": 31,
   "id": "c2d240c2",
   "metadata": {},
   "outputs": [
    {
     "name": "stdout",
     "output_type": "stream",
     "text": [
      "(5, 3, 2, 3, 4, 4, 2, 2)\n",
      "25\n"
     ]
    }
   ],
   "source": [
    "area(5, 3, 2,3,4,4,2,2)"
   ]
  },
  {
   "cell_type": "code",
   "execution_count": null,
   "id": "f9f26a27",
   "metadata": {},
   "outputs": [],
   "source": []
  }
 ],
 "metadata": {
  "kernelspec": {
   "display_name": "mljob",
   "language": "python",
   "name": "python3"
  },
  "language_info": {
   "codemirror_mode": {
    "name": "ipython",
    "version": 3
   },
   "file_extension": ".py",
   "mimetype": "text/x-python",
   "name": "python",
   "nbconvert_exporter": "python",
   "pygments_lexer": "ipython3",
   "version": "3.10.18"
  }
 },
 "nbformat": 4,
 "nbformat_minor": 5
}
